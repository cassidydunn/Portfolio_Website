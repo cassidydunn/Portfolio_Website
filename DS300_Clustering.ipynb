{
 "cells": [
  {
   "cell_type": "markdown",
   "metadata": {},
   "source": [
    "<h1><center> DS 300: Lab 4 - Clustering"
   ]
  },
  {
   "cell_type": "markdown",
   "metadata": {},
   "source": [
    "![image](https://images0.cnblogs.com/blog/573996/201311/15181644-666c09ebfe1a4a4eac839430ae1628ce.png)\n",
    "\n",
    "## Introduction\n",
    "Clustering is one of the most important techniques in unsupervised learning, and it is often used in the analysis of genomic data. In this lab, we'll leverage divisive and hierarchical clustering on the `NCI60` cancer cell line microarray data, which consists of 6,830 gene expression measurements on 64 cancer cell lines."
   ]
  },
  {
   "cell_type": "markdown",
   "metadata": {},
   "source": [
    "#### Import necessary libraries"
   ]
  },
  {
   "cell_type": "code",
   "execution_count": 129,
   "metadata": {},
   "outputs": [],
   "source": [
    "import pandas as pd\n",
    "import numpy as np\n",
    "import matplotlib.pyplot as plt\n",
    "import seaborn as sns\n",
    "%matplotlib inline"
   ]
  },
  {
   "cell_type": "markdown",
   "metadata": {},
   "source": [
    "## Question 1:\n",
    "\n",
    "#### Load the `lab4_X.csv` [(link)](https://raw.githubusercontent.com/BlueJayADAL/DS300/master/datasets/lab4_X.csv) as the X matrix data, and `lab4_y.csv` [(link)](https://raw.githubusercontent.com/BlueJayADAL/DS300/master/datasets/lab4_y.csv) as the y vector data. Use the first column from each dataset as the index of the DataFrame. \n",
    "\n",
    "#### Note that each cell line (row of X) is labeled with a cancer type (y). But we'll ignore the cancer types in performing clustering, as these are unsupervised techniques. After performing clustering, we'll use this column to see the extent to which these cancer types agree with the results of these unsupervised techniques."
   ]
  },
  {
   "cell_type": "code",
   "execution_count": 130,
   "metadata": {},
   "outputs": [],
   "source": [
    "# Load the NCI60 data into X and y\n",
    "X = 'https://raw.githubusercontent.com/BlueJayADAL/DS300/master/datasets/lab4_X.csv'\n",
    "X = pd.read_csv(X, index_col=0)\n",
    "\n",
    "\n",
    "y = 'https://raw.githubusercontent.com/BlueJayADAL/DS300/master/datasets/lab4_y.csv'\n",
    "y = pd.read_csv(y, index_col=0)\n",
    "\n"
   ]
  },
  {
   "cell_type": "markdown",
   "metadata": {},
   "source": [
    "The data has 64 rows and 6,830 columns."
   ]
  },
  {
   "cell_type": "code",
   "execution_count": 131,
   "metadata": {},
   "outputs": [
    {
     "data": {
      "text/html": [
       "<div>\n",
       "<style scoped>\n",
       "    .dataframe tbody tr th:only-of-type {\n",
       "        vertical-align: middle;\n",
       "    }\n",
       "\n",
       "    .dataframe tbody tr th {\n",
       "        vertical-align: top;\n",
       "    }\n",
       "\n",
       "    .dataframe thead th {\n",
       "        text-align: right;\n",
       "    }\n",
       "</style>\n",
       "<table border=\"1\" class=\"dataframe\">\n",
       "  <thead>\n",
       "    <tr style=\"text-align: right;\">\n",
       "      <th></th>\n",
       "      <th>1</th>\n",
       "      <th>2</th>\n",
       "      <th>3</th>\n",
       "      <th>4</th>\n",
       "      <th>5</th>\n",
       "      <th>6</th>\n",
       "      <th>7</th>\n",
       "      <th>8</th>\n",
       "      <th>9</th>\n",
       "      <th>10</th>\n",
       "      <th>...</th>\n",
       "      <th>6821</th>\n",
       "      <th>6822</th>\n",
       "      <th>6823</th>\n",
       "      <th>6824</th>\n",
       "      <th>6825</th>\n",
       "      <th>6826</th>\n",
       "      <th>6827</th>\n",
       "      <th>6828</th>\n",
       "      <th>6829</th>\n",
       "      <th>6830</th>\n",
       "    </tr>\n",
       "  </thead>\n",
       "  <tbody>\n",
       "    <tr>\n",
       "      <th>V1</th>\n",
       "      <td>0.300000</td>\n",
       "      <td>1.180000</td>\n",
       "      <td>0.550000</td>\n",
       "      <td>1.140000</td>\n",
       "      <td>-0.265000</td>\n",
       "      <td>-7.000000e-02</td>\n",
       "      <td>0.350000</td>\n",
       "      <td>-0.315000</td>\n",
       "      <td>-0.450000</td>\n",
       "      <td>-0.654981</td>\n",
       "      <td>...</td>\n",
       "      <td>-0.990019</td>\n",
       "      <td>0.000000</td>\n",
       "      <td>0.030000</td>\n",
       "      <td>-0.175000</td>\n",
       "      <td>0.629981</td>\n",
       "      <td>-0.030000</td>\n",
       "      <td>0.000000</td>\n",
       "      <td>0.280000</td>\n",
       "      <td>-0.340000</td>\n",
       "      <td>-1.930000</td>\n",
       "    </tr>\n",
       "    <tr>\n",
       "      <th>V2</th>\n",
       "      <td>0.679961</td>\n",
       "      <td>1.289961</td>\n",
       "      <td>0.169961</td>\n",
       "      <td>0.379961</td>\n",
       "      <td>0.464961</td>\n",
       "      <td>5.799610e-01</td>\n",
       "      <td>0.699961</td>\n",
       "      <td>0.724961</td>\n",
       "      <td>-0.040039</td>\n",
       "      <td>-0.285020</td>\n",
       "      <td>...</td>\n",
       "      <td>-0.270058</td>\n",
       "      <td>-0.300039</td>\n",
       "      <td>-0.250039</td>\n",
       "      <td>-0.535039</td>\n",
       "      <td>0.109941</td>\n",
       "      <td>-0.860039</td>\n",
       "      <td>-1.250049</td>\n",
       "      <td>-0.770039</td>\n",
       "      <td>-0.390039</td>\n",
       "      <td>-2.000039</td>\n",
       "    </tr>\n",
       "    <tr>\n",
       "      <th>V3</th>\n",
       "      <td>0.940000</td>\n",
       "      <td>-0.040000</td>\n",
       "      <td>-0.170000</td>\n",
       "      <td>-0.040000</td>\n",
       "      <td>-0.605000</td>\n",
       "      <td>0.000000e+00</td>\n",
       "      <td>0.090000</td>\n",
       "      <td>0.645000</td>\n",
       "      <td>0.430000</td>\n",
       "      <td>0.475019</td>\n",
       "      <td>...</td>\n",
       "      <td>0.319981</td>\n",
       "      <td>0.120000</td>\n",
       "      <td>-0.740000</td>\n",
       "      <td>-0.595000</td>\n",
       "      <td>-0.270020</td>\n",
       "      <td>-0.150000</td>\n",
       "      <td>0.000000</td>\n",
       "      <td>-0.120000</td>\n",
       "      <td>-0.410000</td>\n",
       "      <td>0.000000</td>\n",
       "    </tr>\n",
       "    <tr>\n",
       "      <th>V4</th>\n",
       "      <td>0.280000</td>\n",
       "      <td>-0.310000</td>\n",
       "      <td>0.680000</td>\n",
       "      <td>-0.810000</td>\n",
       "      <td>0.625000</td>\n",
       "      <td>-1.387779e-17</td>\n",
       "      <td>0.170000</td>\n",
       "      <td>0.245000</td>\n",
       "      <td>0.020000</td>\n",
       "      <td>0.095019</td>\n",
       "      <td>...</td>\n",
       "      <td>-1.240020</td>\n",
       "      <td>-0.110000</td>\n",
       "      <td>-0.160000</td>\n",
       "      <td>0.095000</td>\n",
       "      <td>-0.350020</td>\n",
       "      <td>-0.300000</td>\n",
       "      <td>-1.150010</td>\n",
       "      <td>1.090000</td>\n",
       "      <td>-0.260000</td>\n",
       "      <td>-1.100000</td>\n",
       "    </tr>\n",
       "    <tr>\n",
       "      <th>V5</th>\n",
       "      <td>0.485000</td>\n",
       "      <td>-0.465000</td>\n",
       "      <td>0.395000</td>\n",
       "      <td>0.905000</td>\n",
       "      <td>0.200000</td>\n",
       "      <td>-5.000000e-03</td>\n",
       "      <td>0.085000</td>\n",
       "      <td>0.110000</td>\n",
       "      <td>0.235000</td>\n",
       "      <td>1.490019</td>\n",
       "      <td>...</td>\n",
       "      <td>0.554980</td>\n",
       "      <td>-0.775000</td>\n",
       "      <td>-0.515000</td>\n",
       "      <td>-0.320000</td>\n",
       "      <td>0.634980</td>\n",
       "      <td>0.605000</td>\n",
       "      <td>0.000000</td>\n",
       "      <td>0.745000</td>\n",
       "      <td>0.425000</td>\n",
       "      <td>0.145000</td>\n",
       "    </tr>\n",
       "  </tbody>\n",
       "</table>\n",
       "<p>5 rows × 6830 columns</p>\n",
       "</div>"
      ],
      "text/plain": [
       "           1         2         3         4         5             6         7  \\\n",
       "V1  0.300000  1.180000  0.550000  1.140000 -0.265000 -7.000000e-02  0.350000   \n",
       "V2  0.679961  1.289961  0.169961  0.379961  0.464961  5.799610e-01  0.699961   \n",
       "V3  0.940000 -0.040000 -0.170000 -0.040000 -0.605000  0.000000e+00  0.090000   \n",
       "V4  0.280000 -0.310000  0.680000 -0.810000  0.625000 -1.387779e-17  0.170000   \n",
       "V5  0.485000 -0.465000  0.395000  0.905000  0.200000 -5.000000e-03  0.085000   \n",
       "\n",
       "           8         9        10  ...      6821      6822      6823      6824  \\\n",
       "V1 -0.315000 -0.450000 -0.654981  ... -0.990019  0.000000  0.030000 -0.175000   \n",
       "V2  0.724961 -0.040039 -0.285020  ... -0.270058 -0.300039 -0.250039 -0.535039   \n",
       "V3  0.645000  0.430000  0.475019  ...  0.319981  0.120000 -0.740000 -0.595000   \n",
       "V4  0.245000  0.020000  0.095019  ... -1.240020 -0.110000 -0.160000  0.095000   \n",
       "V5  0.110000  0.235000  1.490019  ...  0.554980 -0.775000 -0.515000 -0.320000   \n",
       "\n",
       "        6825      6826      6827      6828      6829      6830  \n",
       "V1  0.629981 -0.030000  0.000000  0.280000 -0.340000 -1.930000  \n",
       "V2  0.109941 -0.860039 -1.250049 -0.770039 -0.390039 -2.000039  \n",
       "V3 -0.270020 -0.150000  0.000000 -0.120000 -0.410000  0.000000  \n",
       "V4 -0.350020 -0.300000 -1.150010  1.090000 -0.260000 -1.100000  \n",
       "V5  0.634980  0.605000  0.000000  0.745000  0.425000  0.145000  \n",
       "\n",
       "[5 rows x 6830 columns]"
      ]
     },
     "execution_count": 131,
     "metadata": {},
     "output_type": "execute_result"
    }
   ],
   "source": [
    "X.head()"
   ]
  },
  {
   "cell_type": "code",
   "execution_count": 132,
   "metadata": {},
   "outputs": [
    {
     "data": {
      "text/html": [
       "<div>\n",
       "<style scoped>\n",
       "    .dataframe tbody tr th:only-of-type {\n",
       "        vertical-align: middle;\n",
       "    }\n",
       "\n",
       "    .dataframe tbody tr th {\n",
       "        vertical-align: top;\n",
       "    }\n",
       "\n",
       "    .dataframe thead th {\n",
       "        text-align: right;\n",
       "    }\n",
       "</style>\n",
       "<table border=\"1\" class=\"dataframe\">\n",
       "  <thead>\n",
       "    <tr style=\"text-align: right;\">\n",
       "      <th></th>\n",
       "      <th>x</th>\n",
       "    </tr>\n",
       "  </thead>\n",
       "  <tbody>\n",
       "    <tr>\n",
       "      <th>1</th>\n",
       "      <td>CNS</td>\n",
       "    </tr>\n",
       "    <tr>\n",
       "      <th>2</th>\n",
       "      <td>CNS</td>\n",
       "    </tr>\n",
       "    <tr>\n",
       "      <th>3</th>\n",
       "      <td>CNS</td>\n",
       "    </tr>\n",
       "    <tr>\n",
       "      <th>4</th>\n",
       "      <td>RENAL</td>\n",
       "    </tr>\n",
       "    <tr>\n",
       "      <th>5</th>\n",
       "      <td>BREAST</td>\n",
       "    </tr>\n",
       "  </tbody>\n",
       "</table>\n",
       "</div>"
      ],
      "text/plain": [
       "        x\n",
       "1     CNS\n",
       "2     CNS\n",
       "3     CNS\n",
       "4   RENAL\n",
       "5  BREAST"
      ]
     },
     "execution_count": 132,
     "metadata": {},
     "output_type": "execute_result"
    }
   ],
   "source": [
    "y.head()"
   ]
  },
  {
   "cell_type": "markdown",
   "metadata": {},
   "source": [
    "## Question 2:\n",
    "\n",
    "#### Let's take a look at the cancer types for the cell lines:"
   ]
  },
  {
   "cell_type": "code",
   "execution_count": 133,
   "metadata": {},
   "outputs": [
    {
     "data": {
      "text/plain": [
       "RENAL          9\n",
       "NSCLC          9\n",
       "MELANOMA       8\n",
       "COLON          7\n",
       "BREAST         7\n",
       "OVARIAN        6\n",
       "LEUKEMIA       6\n",
       "CNS            5\n",
       "PROSTATE       2\n",
       "MCF7D-repro    1\n",
       "K562A-repro    1\n",
       "UNKNOWN        1\n",
       "MCF7A-repro    1\n",
       "K562B-repro    1\n",
       "Name: x, dtype: int64"
      ]
     },
     "execution_count": 133,
     "metadata": {},
     "output_type": "execute_result"
    }
   ],
   "source": [
    "y['x'].value_counts()\n",
    "\n"
   ]
  },
  {
   "cell_type": "markdown",
   "metadata": {},
   "source": [
    "#### Check the total missing values"
   ]
  },
  {
   "cell_type": "code",
   "execution_count": 134,
   "metadata": {},
   "outputs": [
    {
     "data": {
      "text/plain": [
       "0"
      ]
     },
     "execution_count": 134,
     "metadata": {},
     "output_type": "execute_result"
    }
   ],
   "source": [
    "y['x'].isnull().sum()\n"
   ]
  },
  {
   "cell_type": "markdown",
   "metadata": {},
   "source": [
    "#### Normalize the feature vector by using `StandardScalar`"
   ]
  },
  {
   "cell_type": "code",
   "execution_count": 135,
   "metadata": {},
   "outputs": [
    {
     "data": {
      "text/plain": [
       "array([[ 0.72867057,  1.60722049,  1.32568834, ...,  0.52089301,\n",
       "        -0.83636534, -1.38467476],\n",
       "       [ 1.59641782,  1.7535441 ,  0.44168566, ..., -0.8236521 ,\n",
       "        -0.92542475, -1.43144619],\n",
       "       [ 2.19028963, -0.01621694, -0.34909222, ...,  0.00870438,\n",
       "        -0.96095134, -0.09583766],\n",
       "       ...,\n",
       "       [ 0.52313039, -0.78801506, -0.30257053, ...,  0.36723642,\n",
       "         3.38176079,  2.53525983],\n",
       "       [-0.07065235,  0.22330662, -0.16300549, ..., -0.46507011,\n",
       "        -0.21343532, -1.2444386 ],\n",
       "       [ 0.84285956, -0.32227482,  0.09286376, ...,  0.53369773,\n",
       "        -0.49820333,  0.71218974]])"
      ]
     },
     "execution_count": 135,
     "metadata": {},
     "output_type": "execute_result"
    }
   ],
   "source": [
    "from sklearn.preprocessing import StandardScaler\n",
    "X_norm = StandardScaler().fit_transform(X)\n",
    "\n",
    "\n",
    "X_norm"
   ]
  },
  {
   "cell_type": "markdown",
   "metadata": {},
   "source": [
    "#### Covert ndarray X_norm back to DataFrame."
   ]
  },
  {
   "cell_type": "code",
   "execution_count": 136,
   "metadata": {},
   "outputs": [
    {
     "data": {
      "text/html": [
       "<div>\n",
       "<style scoped>\n",
       "    .dataframe tbody tr th:only-of-type {\n",
       "        vertical-align: middle;\n",
       "    }\n",
       "\n",
       "    .dataframe tbody tr th {\n",
       "        vertical-align: top;\n",
       "    }\n",
       "\n",
       "    .dataframe thead th {\n",
       "        text-align: right;\n",
       "    }\n",
       "</style>\n",
       "<table border=\"1\" class=\"dataframe\">\n",
       "  <thead>\n",
       "    <tr style=\"text-align: right;\">\n",
       "      <th></th>\n",
       "      <th>0</th>\n",
       "      <th>1</th>\n",
       "      <th>2</th>\n",
       "      <th>3</th>\n",
       "      <th>4</th>\n",
       "      <th>5</th>\n",
       "      <th>6</th>\n",
       "      <th>7</th>\n",
       "      <th>8</th>\n",
       "      <th>9</th>\n",
       "      <th>...</th>\n",
       "      <th>6820</th>\n",
       "      <th>6821</th>\n",
       "      <th>6822</th>\n",
       "      <th>6823</th>\n",
       "      <th>6824</th>\n",
       "      <th>6825</th>\n",
       "      <th>6826</th>\n",
       "      <th>6827</th>\n",
       "      <th>6828</th>\n",
       "      <th>6829</th>\n",
       "    </tr>\n",
       "  </thead>\n",
       "  <tbody>\n",
       "    <tr>\n",
       "      <th>0</th>\n",
       "      <td>0.728671</td>\n",
       "      <td>1.607220</td>\n",
       "      <td>1.325688</td>\n",
       "      <td>1.355688</td>\n",
       "      <td>-0.604845</td>\n",
       "      <td>-0.220654</td>\n",
       "      <td>0.898137</td>\n",
       "      <td>-0.868741</td>\n",
       "      <td>-1.058612</td>\n",
       "      <td>-1.059174</td>\n",
       "      <td>...</td>\n",
       "      <td>-1.030663</td>\n",
       "      <td>-0.358518</td>\n",
       "      <td>-0.238245</td>\n",
       "      <td>-0.392487</td>\n",
       "      <td>0.831370</td>\n",
       "      <td>-0.200286</td>\n",
       "      <td>-0.075668</td>\n",
       "      <td>0.520893</td>\n",
       "      <td>-0.836365</td>\n",
       "      <td>-1.384675</td>\n",
       "    </tr>\n",
       "    <tr>\n",
       "      <th>1</th>\n",
       "      <td>1.596418</td>\n",
       "      <td>1.753544</td>\n",
       "      <td>0.441686</td>\n",
       "      <td>0.654119</td>\n",
       "      <td>0.911898</td>\n",
       "      <td>1.648748</td>\n",
       "      <td>1.849697</td>\n",
       "      <td>2.226625</td>\n",
       "      <td>-0.095860</td>\n",
       "      <td>-0.477977</td>\n",
       "      <td>...</td>\n",
       "      <td>-0.215657</td>\n",
       "      <td>-0.625720</td>\n",
       "      <td>-0.489938</td>\n",
       "      <td>-0.800791</td>\n",
       "      <td>0.013818</td>\n",
       "      <td>-1.105413</td>\n",
       "      <td>-1.117676</td>\n",
       "      <td>-0.823652</td>\n",
       "      <td>-0.925425</td>\n",
       "      <td>-1.431446</td>\n",
       "    </tr>\n",
       "    <tr>\n",
       "      <th>2</th>\n",
       "      <td>2.190290</td>\n",
       "      <td>-0.016217</td>\n",
       "      <td>-0.349092</td>\n",
       "      <td>0.266465</td>\n",
       "      <td>-1.311310</td>\n",
       "      <td>-0.019322</td>\n",
       "      <td>0.191185</td>\n",
       "      <td>1.988627</td>\n",
       "      <td>1.007979</td>\n",
       "      <td>0.716019</td>\n",
       "      <td>...</td>\n",
       "      <td>0.452274</td>\n",
       "      <td>-0.251651</td>\n",
       "      <td>-0.930304</td>\n",
       "      <td>-0.868790</td>\n",
       "      <td>-0.583517</td>\n",
       "      <td>-0.331142</td>\n",
       "      <td>-0.075668</td>\n",
       "      <td>0.008704</td>\n",
       "      <td>-0.960951</td>\n",
       "      <td>-0.095838</td>\n",
       "    </tr>\n",
       "    <tr>\n",
       "      <th>3</th>\n",
       "      <td>0.682995</td>\n",
       "      <td>-0.375502</td>\n",
       "      <td>1.628079</td>\n",
       "      <td>-0.444299</td>\n",
       "      <td>1.244434</td>\n",
       "      <td>-0.019322</td>\n",
       "      <td>0.408709</td>\n",
       "      <td>0.798057</td>\n",
       "      <td>0.045135</td>\n",
       "      <td>0.119051</td>\n",
       "      <td>...</td>\n",
       "      <td>-1.313667</td>\n",
       "      <td>-0.456479</td>\n",
       "      <td>-0.409013</td>\n",
       "      <td>-0.086293</td>\n",
       "      <td>-0.709285</td>\n",
       "      <td>-0.494711</td>\n",
       "      <td>-1.034286</td>\n",
       "      <td>1.558075</td>\n",
       "      <td>-0.693981</td>\n",
       "      <td>-0.830408</td>\n",
       "    </tr>\n",
       "    <tr>\n",
       "      <th>4</th>\n",
       "      <td>1.151170</td>\n",
       "      <td>-0.581759</td>\n",
       "      <td>0.965145</td>\n",
       "      <td>1.138767</td>\n",
       "      <td>0.361351</td>\n",
       "      <td>-0.033703</td>\n",
       "      <td>0.177590</td>\n",
       "      <td>0.396239</td>\n",
       "      <td>0.550041</td>\n",
       "      <td>2.310550</td>\n",
       "      <td>...</td>\n",
       "      <td>0.718297</td>\n",
       "      <td>-1.048700</td>\n",
       "      <td>-0.728079</td>\n",
       "      <td>-0.556925</td>\n",
       "      <td>0.839231</td>\n",
       "      <td>0.492157</td>\n",
       "      <td>-0.075668</td>\n",
       "      <td>1.116312</td>\n",
       "      <td>0.525182</td>\n",
       "      <td>0.000992</td>\n",
       "    </tr>\n",
       "  </tbody>\n",
       "</table>\n",
       "<p>5 rows × 6830 columns</p>\n",
       "</div>"
      ],
      "text/plain": [
       "       0         1         2         3         4         5         6     \\\n",
       "0  0.728671  1.607220  1.325688  1.355688 -0.604845 -0.220654  0.898137   \n",
       "1  1.596418  1.753544  0.441686  0.654119  0.911898  1.648748  1.849697   \n",
       "2  2.190290 -0.016217 -0.349092  0.266465 -1.311310 -0.019322  0.191185   \n",
       "3  0.682995 -0.375502  1.628079 -0.444299  1.244434 -0.019322  0.408709   \n",
       "4  1.151170 -0.581759  0.965145  1.138767  0.361351 -0.033703  0.177590   \n",
       "\n",
       "       7         8         9     ...      6820      6821      6822      6823  \\\n",
       "0 -0.868741 -1.058612 -1.059174  ... -1.030663 -0.358518 -0.238245 -0.392487   \n",
       "1  2.226625 -0.095860 -0.477977  ... -0.215657 -0.625720 -0.489938 -0.800791   \n",
       "2  1.988627  1.007979  0.716019  ...  0.452274 -0.251651 -0.930304 -0.868790   \n",
       "3  0.798057  0.045135  0.119051  ... -1.313667 -0.456479 -0.409013 -0.086293   \n",
       "4  0.396239  0.550041  2.310550  ...  0.718297 -1.048700 -0.728079 -0.556925   \n",
       "\n",
       "       6824      6825      6826      6827      6828      6829  \n",
       "0  0.831370 -0.200286 -0.075668  0.520893 -0.836365 -1.384675  \n",
       "1  0.013818 -1.105413 -1.117676 -0.823652 -0.925425 -1.431446  \n",
       "2 -0.583517 -0.331142 -0.075668  0.008704 -0.960951 -0.095838  \n",
       "3 -0.709285 -0.494711 -1.034286  1.558075 -0.693981 -0.830408  \n",
       "4  0.839231  0.492157 -0.075668  1.116312  0.525182  0.000992  \n",
       "\n",
       "[5 rows x 6830 columns]"
      ]
     },
     "execution_count": 136,
     "metadata": {},
     "output_type": "execute_result"
    }
   ],
   "source": [
    "X = pd.DataFrame(X_norm)\n",
    "\n",
    "\n",
    "X.head()"
   ]
  },
  {
   "cell_type": "markdown",
   "metadata": {},
   "source": [
    "## Question 3: Hierarchical Clustering\n",
    "\n",
    "#### We now proceed to hierarchically cluster the cell lines, with the goal of finding out whether or not the observations cluster into distinct types of cancer."
   ]
  },
  {
   "cell_type": "markdown",
   "metadata": {},
   "source": [
    "#### We now perform hierarchical clustering of the observations using complete, single, and average linkage. We'll use standard Euclidean distance as the similarity measure:"
   ]
  },
  {
   "cell_type": "code",
   "execution_count": 137,
   "metadata": {},
   "outputs": [
    {
     "data": {
      "image/png": "[encoded data removed]",
      "text/plain": [
       "<Figure size 1080x1584 with 3 Axes>"
      ]
     },
     "metadata": {
      "needs_background": "light"
     },
     "output_type": "display_data"
    }
   ],
   "source": [
    "from scipy.cluster.hierarchy import linkage, dendrogram, cut_tree\n",
    "\n",
    "# This step ensures the x axis labels of the dendrogram will contain the\n",
    "# true labels so that we can visualize the \"goodness\" of the clustering\n",
    "X.index = y['x']\n",
    "\n",
    "# Setup the subplot canvas (3 rows 1 column)\n",
    "fig, ax = plt.subplots(3,1, figsize=(15,22))\n",
    "fig.subplots_adjust(hspace=0.5)\n",
    "\n",
    "# Train hierarchical clustering with 3 linkage variations\n",
    "# Draw the dendrogram for each setting\n",
    "linkages = ['single', 'complete', 'average']\n",
    "for link, axis in zip(linkages, fig.axes):\n",
    "    # Subfigures' title and labels\n",
    "    axis.set_title(\"Linkage=%s\" % link, size=15)\n",
    "    axis.set_xlabel('Sample Type', size=15)\n",
    "    axis.set_ylabel('Distance', size=15)\n",
    "    \n",
    "    # HC models\n",
    "    hc = linkage(X, link)\n",
    "    \n",
    "    \n",
    "    # Plot dendrograms\n",
    "    dendrogram(hc, leaf_rotation=90, leaf_font_size=8, ax=axis, labels = X.index)\n",
    "\n",
    "\n"
   ]
  },
  {
   "cell_type": "markdown",
   "metadata": {},
   "source": [
    "#### Observations: \n",
    "We see that the choice of linkage certainly does affect the results obtained. \n",
    "Typically, single linkage will tend to yield trailing clusters: very large clusters onto which individual observations attach one-by-one. \n",
    "\n",
    "On the other hand, complete and average linkage\n",
    "tend to yield more balanced, attractive clusters, but assuming for globular shapes.\n",
    "For this reason, complete\n",
    "and average linkage are generally preferred to single linkage. Clearly cell\n",
    "lines within a single cancer type do tend to cluster together, although the\n",
    "clustering is not perfect. "
   ]
  },
  {
   "cell_type": "markdown",
   "metadata": {},
   "source": [
    "## Question 4:\n",
    "\n",
    "#### Let's use our complete linkage hierarchical clustering for the analysis. We can cut the dendrogram at the height that will yield a particular number of clusters, say 4."
   ]
  },
  {
   "cell_type": "code",
   "execution_count": 138,
   "metadata": {},
   "outputs": [
    {
     "data": {
      "text/html": [
       "<div>\n",
       "<style scoped>\n",
       "    .dataframe tbody tr th:only-of-type {\n",
       "        vertical-align: middle;\n",
       "    }\n",
       "\n",
       "    .dataframe tbody tr th {\n",
       "        vertical-align: top;\n",
       "    }\n",
       "\n",
       "    .dataframe thead th {\n",
       "        text-align: right;\n",
       "    }\n",
       "</style>\n",
       "<table border=\"1\" class=\"dataframe\">\n",
       "  <thead>\n",
       "    <tr style=\"text-align: right;\">\n",
       "      <th>Cluster</th>\n",
       "      <th>0</th>\n",
       "      <th>1</th>\n",
       "      <th>2</th>\n",
       "      <th>3</th>\n",
       "    </tr>\n",
       "    <tr>\n",
       "      <th>Cancer Type</th>\n",
       "      <th></th>\n",
       "      <th></th>\n",
       "      <th></th>\n",
       "      <th></th>\n",
       "    </tr>\n",
       "  </thead>\n",
       "  <tbody>\n",
       "    <tr>\n",
       "      <th>BREAST</th>\n",
       "      <td>2</td>\n",
       "      <td>3</td>\n",
       "      <td>0</td>\n",
       "      <td>2</td>\n",
       "    </tr>\n",
       "    <tr>\n",
       "      <th>CNS</th>\n",
       "      <td>3</td>\n",
       "      <td>2</td>\n",
       "      <td>0</td>\n",
       "      <td>0</td>\n",
       "    </tr>\n",
       "    <tr>\n",
       "      <th>COLON</th>\n",
       "      <td>2</td>\n",
       "      <td>0</td>\n",
       "      <td>0</td>\n",
       "      <td>5</td>\n",
       "    </tr>\n",
       "    <tr>\n",
       "      <th>K562A-repro</th>\n",
       "      <td>0</td>\n",
       "      <td>0</td>\n",
       "      <td>1</td>\n",
       "      <td>0</td>\n",
       "    </tr>\n",
       "    <tr>\n",
       "      <th>K562B-repro</th>\n",
       "      <td>0</td>\n",
       "      <td>0</td>\n",
       "      <td>1</td>\n",
       "      <td>0</td>\n",
       "    </tr>\n",
       "    <tr>\n",
       "      <th>LEUKEMIA</th>\n",
       "      <td>0</td>\n",
       "      <td>0</td>\n",
       "      <td>6</td>\n",
       "      <td>0</td>\n",
       "    </tr>\n",
       "    <tr>\n",
       "      <th>MCF7A-repro</th>\n",
       "      <td>0</td>\n",
       "      <td>0</td>\n",
       "      <td>0</td>\n",
       "      <td>1</td>\n",
       "    </tr>\n",
       "    <tr>\n",
       "      <th>MCF7D-repro</th>\n",
       "      <td>0</td>\n",
       "      <td>0</td>\n",
       "      <td>0</td>\n",
       "      <td>1</td>\n",
       "    </tr>\n",
       "    <tr>\n",
       "      <th>MELANOMA</th>\n",
       "      <td>8</td>\n",
       "      <td>0</td>\n",
       "      <td>0</td>\n",
       "      <td>0</td>\n",
       "    </tr>\n",
       "    <tr>\n",
       "      <th>NSCLC</th>\n",
       "      <td>8</td>\n",
       "      <td>1</td>\n",
       "      <td>0</td>\n",
       "      <td>0</td>\n",
       "    </tr>\n",
       "    <tr>\n",
       "      <th>OVARIAN</th>\n",
       "      <td>6</td>\n",
       "      <td>0</td>\n",
       "      <td>0</td>\n",
       "      <td>0</td>\n",
       "    </tr>\n",
       "    <tr>\n",
       "      <th>PROSTATE</th>\n",
       "      <td>2</td>\n",
       "      <td>0</td>\n",
       "      <td>0</td>\n",
       "      <td>0</td>\n",
       "    </tr>\n",
       "    <tr>\n",
       "      <th>RENAL</th>\n",
       "      <td>8</td>\n",
       "      <td>1</td>\n",
       "      <td>0</td>\n",
       "      <td>0</td>\n",
       "    </tr>\n",
       "    <tr>\n",
       "      <th>UNKNOWN</th>\n",
       "      <td>1</td>\n",
       "      <td>0</td>\n",
       "      <td>0</td>\n",
       "      <td>0</td>\n",
       "    </tr>\n",
       "  </tbody>\n",
       "</table>\n",
       "</div>"
      ],
      "text/plain": [
       "Cluster      0  1  2  3\n",
       "Cancer Type            \n",
       "BREAST       2  3  0  2\n",
       "CNS          3  2  0  0\n",
       "COLON        2  0  0  5\n",
       "K562A-repro  0  0  1  0\n",
       "K562B-repro  0  0  1  0\n",
       "LEUKEMIA     0  0  6  0\n",
       "MCF7A-repro  0  0  0  1\n",
       "MCF7D-repro  0  0  0  1\n",
       "MELANOMA     8  0  0  0\n",
       "NSCLC        8  1  0  0\n",
       "OVARIAN      6  0  0  0\n",
       "PROSTATE     2  0  0  0\n",
       "RENAL        8  1  0  0\n",
       "UNKNOWN      1  0  0  0"
      ]
     },
     "execution_count": 138,
     "metadata": {},
     "output_type": "execute_result"
    }
   ],
   "source": [
    "hc_complete = linkage(X, 'complete')\n",
    "\n",
    "\n",
    "hc_complete_4_clusters = cut_tree(hc_complete, n_clusters=4)\n",
    "\n",
    "\n",
    "pd.crosstab(index = X.index, \n",
    "            columns = np.transpose(hc_complete_4_clusters)[0],  # Use transpose here\n",
    "            rownames = ['Cancer Type'], \n",
    "            colnames = ['Cluster'])"
   ]
  },
  {
   "cell_type": "markdown",
   "metadata": {},
   "source": [
    "There are some clear patterns. All the leukemia cell lines fall in cluster 2,\n",
    "while the breast cancer cell lines are spread out over three different clusters.\n",
    "We can plot the cut on the dendrogram that produces these four clusters by adding an `axhline()`, which draws a horizontal line on top of our plot:"
   ]
  },
  {
   "cell_type": "code",
   "execution_count": 139,
   "metadata": {},
   "outputs": [
    {
     "data": {
      "image/png": "[encoded data removed]",
      "text/plain": [
       "<Figure size 1080x576 with 1 Axes>"
      ]
     },
     "metadata": {
      "needs_background": "light"
     },
     "output_type": "display_data"
    }
   ],
   "source": [
    "fig, ax = plt.subplots(1,1, figsize = (15,8))\n",
    "dendrogram(hc_complete, leaf_rotation=90, leaf_font_size=12, labels=X.index)  \n",
    "\n",
    "plt.axhline(y=140, \n",
    "            linestyle=\"--\",\n",
    "           color=\"black\")\n",
    "\n",
    "\n",
    "plt.show()\n"
   ]
  },
  {
   "cell_type": "markdown",
   "metadata": {},
   "source": [
    "## Question 5:\n",
    "\n",
    "#### K-means clustering and hierarchical clustering with the dendrogram cut to obtain the same number of clusters can yield **very** different results. How do these `NCI60` hierarchical clustering results compare to what we get if we perform K-means clustering with `K = 4`? Use `n_init` as 150, and random seed as 101."
   ]
  },
  {
   "cell_type": "code",
   "execution_count": 140,
   "metadata": {},
   "outputs": [
    {
     "data": {
      "text/plain": [
       "array([0, 0, 0, 0, 0, 0, 0, 0, 0, 0, 0, 0, 0, 0, 0, 0, 0, 0, 0, 0, 0, 0,\n",
       "       3, 3, 3, 3, 3, 0, 3, 3, 3, 3, 3, 1, 1, 1, 1, 1, 1, 1, 1, 3, 3, 3,\n",
       "       3, 3, 3, 3, 3, 3, 3, 3, 3, 3, 3, 2, 2, 2, 2, 2, 2, 2, 2, 2],\n",
       "      dtype=int32)"
      ]
     },
     "execution_count": 140,
     "metadata": {},
     "output_type": "execute_result"
    }
   ],
   "source": [
    "from sklearn.cluster import KMeans\n",
    "\n",
    "kmeans_4 = KMeans(n_clusters=4, random_state=101, n_init=150)\n",
    "\n",
    "\n",
    "kmeans_4.fit(X)\n",
    "\n",
    "\n",
    "kmeans_4.labels_"
   ]
  },
  {
   "cell_type": "markdown",
   "metadata": {},
   "source": [
    "We can use a confusion matrix to compare the differences in how the two methods assigned observations to clusters:"
   ]
  },
  {
   "cell_type": "code",
   "execution_count": 141,
   "metadata": {},
   "outputs": [
    {
     "data": {
      "text/html": [
       "<div>\n",
       "<style scoped>\n",
       "    .dataframe tbody tr th:only-of-type {\n",
       "        vertical-align: middle;\n",
       "    }\n",
       "\n",
       "    .dataframe tbody tr th {\n",
       "        vertical-align: top;\n",
       "    }\n",
       "\n",
       "    .dataframe thead th {\n",
       "        text-align: right;\n",
       "    }\n",
       "</style>\n",
       "<table border=\"1\" class=\"dataframe\">\n",
       "  <thead>\n",
       "    <tr style=\"text-align: right;\">\n",
       "      <th>Hierarchical</th>\n",
       "      <th>0</th>\n",
       "      <th>1</th>\n",
       "      <th>2</th>\n",
       "      <th>3</th>\n",
       "    </tr>\n",
       "    <tr>\n",
       "      <th>K-Means</th>\n",
       "      <th></th>\n",
       "      <th></th>\n",
       "      <th></th>\n",
       "      <th></th>\n",
       "    </tr>\n",
       "  </thead>\n",
       "  <tbody>\n",
       "    <tr>\n",
       "      <th>0</th>\n",
       "      <td>16</td>\n",
       "      <td>7</td>\n",
       "      <td>0</td>\n",
       "      <td>0</td>\n",
       "    </tr>\n",
       "    <tr>\n",
       "      <th>1</th>\n",
       "      <td>0</td>\n",
       "      <td>0</td>\n",
       "      <td>8</td>\n",
       "      <td>0</td>\n",
       "    </tr>\n",
       "    <tr>\n",
       "      <th>2</th>\n",
       "      <td>9</td>\n",
       "      <td>0</td>\n",
       "      <td>0</td>\n",
       "      <td>0</td>\n",
       "    </tr>\n",
       "    <tr>\n",
       "      <th>3</th>\n",
       "      <td>15</td>\n",
       "      <td>0</td>\n",
       "      <td>0</td>\n",
       "      <td>9</td>\n",
       "    </tr>\n",
       "  </tbody>\n",
       "</table>\n",
       "</div>"
      ],
      "text/plain": [
       "Hierarchical   0  1  2  3\n",
       "K-Means                  \n",
       "0             16  7  0  0\n",
       "1              0  0  8  0\n",
       "2              9  0  0  0\n",
       "3             15  0  0  9"
      ]
     },
     "execution_count": 141,
     "metadata": {},
     "output_type": "execute_result"
    }
   ],
   "source": [
    "pd.crosstab(index = kmeans_4.labels_, \n",
    "            columns = np.transpose(hc_complete_4_clusters)[0],   # Use transpose here\n",
    "            rownames = ['K-Means'],  \n",
    "            colnames = ['Hierarchical'])"
   ]
  },
  {
   "cell_type": "markdown",
   "metadata": {},
   "source": [
    "We see that the four clusters obtained using hierarchical clustering and Kmeans\n",
    "clustering are somewhat different which is expected."
   ]
  },
  {
   "cell_type": "markdown",
   "metadata": {},
   "source": [
    "## Question 6: Evaluation\n",
    "\n",
    "#### We will use both external and internal measures for the \"goodness\" of the clusterings.\n",
    "\n",
    "Mutual Information is a function that measures the agreement of the two assignments, ignoring permutations. Two different normalized versions of this measure are available, Normalized Mutual Information (NMI) and Adjusted Mutual Information (AMI). NMI is often used in the literature, while AMI was proposed more recently and is normalized against chance. Perfect labeling is scored 1.0, Bad (e.g. independent labelings) have non-positive scores.\n",
    "\n"
   ]
  },
  {
   "cell_type": "markdown",
   "metadata": {},
   "source": [
    "#### External Measure"
   ]
  },
  {
   "cell_type": "code",
   "execution_count": 142,
   "metadata": {},
   "outputs": [],
   "source": [
    "from sklearn import metrics"
   ]
  },
  {
   "cell_type": "markdown",
   "metadata": {},
   "source": [
    "#### You don't actually need to LabelEncode the true labels. The function will do it for you. Check the following results."
   ]
  },
  {
   "cell_type": "code",
   "execution_count": 143,
   "metadata": {},
   "outputs": [
    {
     "name": "stdout",
     "output_type": "stream",
     "text": [
      "AMI of KMeans:  0.4225185670895189\n"
     ]
    }
   ],
   "source": [
    "from sklearn.preprocessing import LabelEncoder\n",
    "LE = LabelEncoder()\n",
    "new_label = LE.fit_transform(y['x'])\n",
    "print(\"AMI of KMeans: \", metrics.adjusted_mutual_info_score(new_label, kmeans_4.labels_)  )"
   ]
  },
  {
   "cell_type": "markdown",
   "metadata": {},
   "source": [
    "`homogeneity`: each cluster contains only members of a single class.\n",
    "`completeness`: all members of a given class are assigned to the same cluster.\n",
    "Their harmonic mean called V-measure is computed by `v_measure_score`"
   ]
  },
  {
   "cell_type": "code",
   "execution_count": 144,
   "metadata": {},
   "outputs": [
    {
     "name": "stdout",
     "output_type": "stream",
     "text": [
      "Homogenity:  0.40349950491507935\n",
      "Completeness:  0.7527929420225796\n",
      "V Measure:  0.5253888498781374\n"
     ]
    }
   ],
   "source": [
    "print('Homogenity: ', metrics.homogeneity_score(y['x'], kmeans_4.labels_))\n",
    "print('Completeness: ', metrics.completeness_score(y['x'], kmeans_4.labels_))\n",
    "print('V Measure: ', metrics.v_measure_score(y['x'], kmeans_4.labels_))\n"
   ]
  },
  {
   "cell_type": "markdown",
   "metadata": {},
   "source": [
    "#### Internal Measure"
   ]
  },
  {
   "cell_type": "code",
   "execution_count": 157,
   "metadata": {},
   "outputs": [
    {
     "name": "stdout",
     "output_type": "stream",
     "text": [
      "Silhouette score:  0.07933826710011246\n"
     ]
    }
   ],
   "source": [
    "print(\"Silhouette score: \", metrics.silhouette_score(X, kmeans_4.labels_, metric='euclidean'))\n",
    "\n"
   ]
  },
  {
   "cell_type": "markdown",
   "metadata": {},
   "source": [
    "## Question 7: Feature reduction with Agglomerative Feature Clustering\n",
    "\n",
    "#### Another useful application of agglomerative clustering is to reduce the feature dimensionality. `FeatureAgglomerative` [[link]](https://scikit-learn.org/stable/modules/generated/sklearn.cluster.FeatureAgglomeration.html) provided by Sklearn is similar to AgglomerativeClustering, but recursively merges features instead of samples. Use `n_clusters` as 20."
   ]
  },
  {
   "cell_type": "code",
   "execution_count": 146,
   "metadata": {},
   "outputs": [],
   "source": [
    "from sklearn.cluster import FeatureAgglomeration\n",
    "\n",
    "agglo = FeatureAgglomeration(n_clusters=20)\n",
    "\n",
    "agglo.fit(X)\n",
    "\n",
    "X_reduced = agglo.transform(X)\n"
   ]
  },
  {
   "cell_type": "code",
   "execution_count": 147,
   "metadata": {},
   "outputs": [
    {
     "data": {
      "text/plain": [
       "(64, 20)"
      ]
     },
     "execution_count": 147,
     "metadata": {},
     "output_type": "execute_result"
    }
   ],
   "source": [
    "X_reduced.shape"
   ]
  },
  {
   "cell_type": "markdown",
   "metadata": {},
   "source": [
    "#### Use the reduced feature to train a AgglomerativeClustering model again and evaluate the Silhouette Score."
   ]
  },
  {
   "cell_type": "code",
   "execution_count": 148,
   "metadata": {},
   "outputs": [
    {
     "data": {
      "text/plain": [
       "array([0, 0, 0, 0, 0, 0, 0, 0, 0, 0, 0, 0, 0, 0, 0, 0, 0, 0, 0, 0, 0, 0,\n",
       "       0, 0, 3, 0, 3, 0, 3, 0, 0, 0, 0, 2, 2, 2, 2, 2, 2, 2, 2, 3, 3, 3,\n",
       "       3, 3, 3, 3, 3, 3, 3, 3, 3, 3, 0, 1, 1, 1, 1, 1, 1, 1, 1, 1],\n",
       "      dtype=int32)"
      ]
     },
     "execution_count": 148,
     "metadata": {},
     "output_type": "execute_result"
    }
   ],
   "source": [
    "kmeans_4_reduced = KMeans(n_clusters=4, random_state=101, n_init=150)\n",
    "\n",
    "kmeans_4_reduced.fit(X_reduced)\n",
    "\n",
    "kmeans_4_reduced.labels_\n"
   ]
  },
  {
   "cell_type": "code",
   "execution_count": 149,
   "metadata": {},
   "outputs": [
    {
     "name": "stdout",
     "output_type": "stream",
     "text": [
      "Silhouette score:  0.2731503832473517\n"
     ]
    }
   ],
   "source": [
    "print(\"Silhouette score: \", metrics.silhouette_score(X_reduced, kmeans_4_reduced.labels_, metric='euclidean'))\n",
    "\n",
    "\n"
   ]
  },
  {
   "cell_type": "markdown",
   "metadata": {},
   "source": [
    "#### Comparing with kmeans_4, the score has almost been tripled."
   ]
  },
  {
   "cell_type": "markdown",
   "metadata": {},
   "source": [
    "## Question 8: DBSCAN\n",
    "\n",
    "#### Let's start by finding an optimal epsilon parameter with K nearest neighbours"
   ]
  },
  {
   "cell_type": "code",
   "execution_count": 150,
   "metadata": {},
   "outputs": [],
   "source": [
    "from sklearn.neighbors import NearestNeighbors"
   ]
  },
  {
   "cell_type": "code",
   "execution_count": 151,
   "metadata": {},
   "outputs": [],
   "source": [
    "# Use 5 nearest neighbors\n",
    "\n",
    "nn = NearestNeighbors(n_neighbors=5)\n",
    "\n",
    "nn.fit(X)\n",
    "\n",
    "distances, indices = nn.kneighbors(X)\n",
    "\n"
   ]
  },
  {
   "cell_type": "code",
   "execution_count": 152,
   "metadata": {},
   "outputs": [
    {
     "data": {
      "text/plain": [
       "[<matplotlib.lines.Line2D at 0x7ff0de1b92d0>]"
      ]
     },
     "execution_count": 152,
     "metadata": {},
     "output_type": "execute_result"
    },
    {
     "data": {
      "image/png": "[encoded data removed]",
      "text/plain": [
       "<Figure size 432x288 with 1 Axes>"
      ]
     },
     "metadata": {
      "needs_background": "light"
     },
     "output_type": "display_data"
    }
   ],
   "source": [
    "distances = np.sort(distances, axis = 0)\n",
    "distances = distances[:, 1]\n",
    "\n",
    "plt.plot(distances) "
   ]
  },
  {
   "cell_type": "markdown",
   "metadata": {},
   "source": [
    "## Question 9\n",
    "\n",
    "#### The first abruptive change on the curve happens when the distance is around 1.4. Let's use epsilon as 1.4."
   ]
  },
  {
   "cell_type": "code",
   "execution_count": 153,
   "metadata": {},
   "outputs": [
    {
     "data": {
      "text/plain": [
       "DBSCAN(eps=1.4)"
      ]
     },
     "execution_count": 153,
     "metadata": {},
     "output_type": "execute_result"
    }
   ],
   "source": [
    "from sklearn.cluster import DBSCAN\n",
    "\n",
    "db = DBSCAN(algorithm='auto', eps=1.4, leaf_size=30, metric='euclidean',\n",
    "       metric_params=None, min_samples=5, n_jobs=None, p=None)\n",
    "\n",
    "db.fit(X_reduced)\n",
    "\n"
   ]
  },
  {
   "cell_type": "code",
   "execution_count": 154,
   "metadata": {},
   "outputs": [
    {
     "data": {
      "text/plain": [
       "array([ 0,  0,  0,  0, -1,  0, -1,  0,  0,  0,  0,  0,  0,  0,  0,  0,  0,\n",
       "       -1,  0, -1,  0,  0,  0,  0,  0,  0,  0,  0,  0,  0,  0,  0,  0, -1,\n",
       "       -1, -1, -1, -1, -1, -1, -1,  0,  0,  0,  0,  0, -1,  0, -1, -1, -1,\n",
       "       -1,  0,  0, -1, -1,  1,  1,  1,  1,  1,  1,  1,  1])"
      ]
     },
     "execution_count": 154,
     "metadata": {},
     "output_type": "execute_result"
    }
   ],
   "source": [
    "clusters = db.labels_\n",
    "\n",
    "\n",
    "clusters"
   ]
  },
  {
   "cell_type": "markdown",
   "metadata": {},
   "source": [
    "## Question 10\n",
    "\n",
    "#### Evaluate DBSCAN model with Silhouette score, homogeneity score, completeness score and V measure."
   ]
  },
  {
   "cell_type": "code",
   "execution_count": 155,
   "metadata": {
    "scrolled": true
   },
   "outputs": [
    {
     "name": "stdout",
     "output_type": "stream",
     "text": [
      "Solhouette score:  0.22979539616581995\n"
     ]
    }
   ],
   "source": [
    "labels = db.labels_\n",
    "print('Solhouette score: ', metrics.silhouette_score(X_reduced, db.labels_, metric='euclidean'))\n"
   ]
  },
  {
   "cell_type": "code",
   "execution_count": 156,
   "metadata": {},
   "outputs": [
    {
     "name": "stdout",
     "output_type": "stream",
     "text": [
      "Homogenity:  0.23555127151799227\n",
      "Completeness:  0.5961189062176327\n",
      "V Measure:  0.33767368385815666\n"
     ]
    }
   ],
   "source": [
    "print('Homogenity: ', metrics.homogeneity_score(y['x'], db.labels_))\n",
    "print('Completeness: ', metrics.completeness_score(y['x'], db.labels_))\n",
    "print('V Measure: ', metrics.v_measure_score(y['x'], db.labels_))\n",
    "\n"
   ]
  },
  {
   "cell_type": "markdown",
   "metadata": {},
   "source": [
    "## Great job!"
   ]
  }
 ],
 "metadata": {
  "kernelspec": {
   "display_name": "Python 3",
   "language": "python",
   "name": "python3"
  },
  "language_info": {
   "codemirror_mode": {
    "name": "ipython",
    "version": 3
   },
   "file_extension": ".py",
   "mimetype": "text/x-python",
   "name": "python",
   "nbconvert_exporter": "python",
   "pygments_lexer": "ipython3",
   "version": "3.7.9"
  },
  "toc": {
   "base_numbering": 1,
   "nav_menu": {},
   "number_sections": true,
   "sideBar": true,
   "skip_h1_title": false,
   "title_cell": "Table of Contents",
   "title_sidebar": "Contents",
   "toc_cell": false,
   "toc_position": {},
   "toc_section_display": true,
   "toc_window_display": false
  },
  "varInspector": {
   "cols": {
    "lenName": 16,
    "lenType": 16,
    "lenVar": 40
   },
   "kernels_config": {
    "python": {
     "delete_cmd_postfix": "",
     "delete_cmd_prefix": "del ",
     "library": "var_list.py",
     "varRefreshCmd": "print(var_dic_list())"
    },
    "r": {
     "delete_cmd_postfix": ") ",
     "delete_cmd_prefix": "rm(",
     "library": "var_list.r",
     "varRefreshCmd": "cat(var_dic_list()) "
    }
   },
   "types_to_exclude": [
    "module",
    "function",
    "builtin_function_or_method",
    "instance",
    "_Feature"
   ],
   "window_display": false
  }
 },
 "nbformat": 4,
 "nbformat_minor": 2
}
